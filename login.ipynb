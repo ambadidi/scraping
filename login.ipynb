{
 "cells": [
  {
   "cell_type": "code",
   "execution_count": 86,
   "id": "734520bb",
   "metadata": {
    "pycharm": {
     "is_executing": true,
     "name": "#%%\n"
    }
   },
   "outputs": [],
   "source": [
    "from selenium import webdriver\n",
    "from selenium.webdriver.common.keys import Keys\n",
    "from webdriver_manager.chrome import ChromeDriverManager\n",
    "import time\n",
    "from selenium.webdriver.common.by import By"
   ]
  },
  {
   "cell_type": "code",
   "execution_count": 87,
   "id": "8c0db79c",
   "metadata": {
    "pycharm": {
     "is_executing": true,
     "name": "#%%\n"
    }
   },
   "outputs": [
    {
     "name": "stderr",
     "output_type": "stream",
     "text": [
      "C:\\Users\\LENOVO\\AppData\\Local\\Temp\\ipykernel_12476\\1314873330.py:1: DeprecationWarning: executable_path has been deprecated, please pass in a Service object\n",
      "  driver = webdriver.Chrome(ChromeDriverManager().install())\n"
     ]
    }
   ],
   "source": [
    "driver = webdriver.Chrome(ChromeDriverManager().install())\n",
    "def login():\n",
    "    url = \"https://app.dnbhoovers.com/login\"\n",
    "    username = \"martin@commonshare.com\"\n",
    "    password = \"H00vers333$11\"\n",
    "    driver.get(url)\n",
    "    time.sleep(5)\n",
    "    driver.find_element(By.XPATH, \"/html/body/div[1]/div[2]/form/div/div/div[1]/div/input\").send_keys(username)\n",
    "    driver.find_element(By.XPATH, \"/html/body/div[1]/div[2]/form/button\").click()\n",
    "    time.sleep(5)\n",
    "    driver.find_element(By.XPATH, \"/html/body/div[1]/div[2]/form/div/div/div[3]/div[2]/input\").send_keys(password)\n",
    "    driver.find_element(By.XPATH, \"/html/body/div[1]/div[2]/form/button\").click()\n",
    "    time.sleep(5)\n",
    "    driver.get(\"https://app.dnbhoovers.com/list/8b7fb5dd-2334-4cf4-8536-2addccea4da0\")"
   ]
  },
  {
   "cell_type": "code",
   "execution_count": 88,
   "id": "8d2862a4",
   "metadata": {
    "pycharm": {
     "name": "#%%\n"
    }
   },
   "outputs": [],
   "source": [
    "login()"
   ]
  },
  {
   "cell_type": "code",
   "execution_count": 89,
   "id": "cec4d42e",
   "metadata": {},
   "outputs": [],
   "source": [
    "driver.find_element(By.XPATH, \"/html/body/div[1]/main/div[2]/div[2]/div/ul/div[3]/li\").click()#Important\n"
   ]
  },
  {
   "cell_type": "code",
   "execution_count": 74,
   "id": "6c31ccd4",
   "metadata": {},
   "outputs": [
    {
     "name": "stdout",
     "output_type": "stream",
     "text": [
      "1\n",
      "1\n",
      "1\n",
      "1\n",
      " 393.68M\n",
      "1\n",
      "1\n",
      "1\n",
      "-------------------\n"
     ]
    }
   ],
   "source": [
    "entreprises = driver.find_elements(By.XPATH, \"/html/body/div[1]/main/div[2]/div[2]/div/ul/div[3]/li/div[3]/div[2]/div[2]/div\" )\n",
    "for e in entreprises:\n",
    "    lines = e.text.split(\"\\n\")\n",
    "    for line in lines:\n",
    "        if (':' in line):\n",
    "            mylist = line.split(':')\n",
    "            if ('Market Value' == mylist[0]):\n",
    "                print(mylist[1])\n",
    "            else:\n",
    "                print(\"1\")\n",
    "#driver.find_element(By.XPATH, \"/html/body/div[1]/main/div[3]/div/div/button[2]\").click()\n",
    "print('-------------------')\n",
    "\n",
    "    "
   ]
  },
  {
   "cell_type": "code",
   "execution_count": 96,
   "id": "7f1d8676",
   "metadata": {},
   "outputs": [],
   "source": [
    "def logout():\n",
    "    driver.find_element(By.XPATH, \"/html/body/div[1]/section/div[2]/div/header\").click()\n",
    "    driver.find_element(By.XPATH, \"/html/body/div[1]/section/div[2]/div/header/ul[2]/li[4]\").click()\n",
    "    time.sleep(3)\n",
    "    driver.find_element(By.XPATH, \"/html/body/div[12]/div/div/ul/li[4]\").click()\n",
    "\n"
   ]
  },
  {
   "cell_type": "code",
   "execution_count": 97,
   "id": "94b380cd",
   "metadata": {},
   "outputs": [],
   "source": [
    "logout()"
   ]
  },
  {
   "cell_type": "code",
   "execution_count": 98,
   "id": "41192a50",
   "metadata": {},
   "outputs": [],
   "source": [
    "driver.quit()\n",
    "\n"
   ]
  }
 ],
 "metadata": {
  "kernelspec": {
   "display_name": "Python 3 (ipykernel)",
   "language": "python",
   "name": "python3"
  },
  "language_info": {
   "codemirror_mode": {
    "name": "ipython",
    "version": 3
   },
   "file_extension": ".py",
   "mimetype": "text/x-python",
   "name": "python",
   "nbconvert_exporter": "python",
   "pygments_lexer": "ipython3",
   "version": "3.9.12"
  }
 },
 "nbformat": 4,
 "nbformat_minor": 5
}
