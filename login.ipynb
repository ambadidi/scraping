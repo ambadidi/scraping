{
 "cells": [
  {
   "cell_type": "code",
   "execution_count": 10,
   "id": "734520bb",
   "metadata": {
    "pycharm": {
     "is_executing": true,
     "name": "#%%\n"
    }
   },
   "outputs": [],
   "source": [
    "from selenium import webdriver\n",
    "from selenium.webdriver.common.keys import Keys\n",
    "from webdriver_manager.chrome import ChromeDriverManager\n",
    "url = \"https://app.dnbhoovers.com/login\"\n",
    "username = \"martin@commonshare.com\"\n",
    "password = \"H00vers333$\""
   ]
  },
  {
   "cell_type": "code",
   "execution_count": 11,
   "id": "8c0db79c",
   "metadata": {
    "pycharm": {
     "is_executing": true,
     "name": "#%%\n"
    }
   },
   "outputs": [
    {
     "name": "stderr",
     "output_type": "stream",
     "text": [
      "C:\\Users\\LENOVO\\AppData\\Local\\Temp\\ipykernel_18332\\1503906442.py:1: DeprecationWarning: executable_path has been deprecated, please pass in a Service object\n",
      "  driver = webdriver.Chrome(ChromeDriverManager().install())\n"
     ]
    }
   ],
   "source": [
    "driver = webdriver.Chrome(ChromeDriverManager().install())"
   ]
  },
  {
   "cell_type": "code",
   "execution_count": 12,
   "id": "8d2862a4",
   "metadata": {
    "pycharm": {
     "name": "#%%\n"
    }
   },
   "outputs": [],
   "source": [
    "driver.get(url)"
   ]
  },
  {
   "cell_type": "code",
   "execution_count": 32,
   "id": "cec4d42e",
   "metadata": {},
   "outputs": [],
   "source": [
    "from selenium.webdriver.common.by import By\n",
    "driver.find_element(By.XPATH, \"/html/body/div[1]/div[2]/form/div/div/div[1]/div/input\").send_keys(username)\n",
    "driver.find_element(By.XPATH, \"/html/body/div[1]/div[2]/form/button\").click()"
   ]
  },
  {
   "cell_type": "code",
   "execution_count": 33,
   "id": "1153f46d",
   "metadata": {},
   "outputs": [],
   "source": [
    "driver.find_element(By.XPATH, \"/html/body/div[1]/div[2]/form/div/div/div[3]/div[2]/input\").send_keys(password)"
   ]
  },
  {
   "cell_type": "raw",
   "id": "650472ed",
   "metadata": {},
   "source": []
  },
  {
   "cell_type": "code",
   "execution_count": 34,
   "id": "82c2d779",
   "metadata": {},
   "outputs": [],
   "source": [
    "driver.find_element(By.XPATH, \"/html/body/div[1]/div[2]/form/button\").click()"
   ]
  },
  {
   "cell_type": "code",
   "execution_count": 35,
   "id": "201fb698",
   "metadata": {},
   "outputs": [],
   "source": [
    "driver.find_element(By.XPATH, \"/html/body/div[1]/section/div[1]/div[2]/div/button\").click()"
   ]
  },
  {
   "cell_type": "code",
   "execution_count": 36,
   "id": "cd3cd80d",
   "metadata": {},
   "outputs": [],
   "source": [
    "driver.find_element(By.XPATH, \"/html/body/div[1]/section/div[1]/div[3]/div[1]/nav/ul/div/ul/li[4]/p\").click()"
   ]
  },
  {
   "cell_type": "raw",
   "id": "4f27e9a7",
   "metadata": {},
   "source": []
  },
  {
   "cell_type": "code",
   "execution_count": 37,
   "id": "95bcf728",
   "metadata": {},
   "outputs": [],
   "source": [
    "driver.find_element(By.XPATH, \"/html/body/div[1]/div[2]/div/div[2]/ul/li/div/div[1]/div/div[3]/div[2]/h2/a\").click()"
   ]
  }
 ],
 "metadata": {
  "kernelspec": {
   "display_name": "Python 3 (ipykernel)",
   "language": "python",
   "name": "python3"
  },
  "language_info": {
   "codemirror_mode": {
    "name": "ipython",
    "version": 3
   },
   "file_extension": ".py",
   "mimetype": "text/x-python",
   "name": "python",
   "nbconvert_exporter": "python",
   "pygments_lexer": "ipython3",
   "version": "3.9.12"
  }
 },
 "nbformat": 4,
 "nbformat_minor": 5
}
